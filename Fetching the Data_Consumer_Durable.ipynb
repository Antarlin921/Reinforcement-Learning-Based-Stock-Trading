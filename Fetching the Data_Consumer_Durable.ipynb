{
 "cells": [
  {
   "cell_type": "markdown",
   "metadata": {},
   "source": [
    "### Fetching the data for all the stocks of the Metal Sector"
   ]
  },
  {
   "cell_type": "code",
   "execution_count": 1,
   "metadata": {},
   "outputs": [
    {
     "name": "stdout",
     "output_type": "stream",
     "text": [
      "1.22.3\n"
     ]
    }
   ],
   "source": [
    "import numpy\n",
    "print(numpy.__version__)"
   ]
  },
  {
   "cell_type": "code",
   "execution_count": 2,
   "metadata": {},
   "outputs": [],
   "source": [
    "# Load libraries\n",
    "import pandas as pd\n",
    "import pandas_datareader as dr"
   ]
  },
  {
   "cell_type": "code",
   "execution_count": 3,
   "metadata": {},
   "outputs": [
    {
     "name": "stdout",
     "output_type": "stream",
     "text": [
      "1.4.2\n"
     ]
    }
   ],
   "source": [
    "print(pd.__version__)"
   ]
  },
  {
   "cell_type": "code",
   "execution_count": 4,
   "metadata": {},
   "outputs": [],
   "source": [
    "tickers = ['TITAN.NS', 'HAVELLS.NS', 'VOLTAS.NS', 'CROMPTON.NS', \n",
    "         'BATAINDIA.NS', 'KAJARIACER.NS', 'RAJESHEXPO.NS', 'RELAXO.NS', 'BLUESTARCO.NS']"
   ]
  },
  {
   "cell_type": "code",
   "execution_count": 5,
   "metadata": {},
   "outputs": [],
   "source": [
    "from yahoofinancials import YahooFinancials"
   ]
  },
  {
   "cell_type": "code",
   "execution_count": 6,
   "metadata": {},
   "outputs": [],
   "source": [
    "yahoo_financials = YahooFinancials(tickers)"
   ]
  },
  {
   "cell_type": "code",
   "execution_count": 7,
   "metadata": {},
   "outputs": [],
   "source": [
    "data = yahoo_financials.get_historical_price_data(start_date='2021-01-01', \n",
    "                                                  end_date='2022-07-01', \n",
    "                                                  time_interval='daily')"
   ]
  },
  {
   "cell_type": "code",
   "execution_count": 8,
   "metadata": {},
   "outputs": [],
   "source": [
    "prices_df = pd.DataFrame({\n",
    "    a: {x['formatted_date']: x['close'] for x in data[a]['prices']} for a in tickers})"
   ]
  },
  {
   "cell_type": "code",
   "execution_count": 9,
   "metadata": {},
   "outputs": [
    {
     "data": {
      "text/html": [
       "<div>\n",
       "<style scoped>\n",
       "    .dataframe tbody tr th:only-of-type {\n",
       "        vertical-align: middle;\n",
       "    }\n",
       "\n",
       "    .dataframe tbody tr th {\n",
       "        vertical-align: top;\n",
       "    }\n",
       "\n",
       "    .dataframe thead th {\n",
       "        text-align: right;\n",
       "    }\n",
       "</style>\n",
       "<table border=\"1\" class=\"dataframe\">\n",
       "  <thead>\n",
       "    <tr style=\"text-align: right;\">\n",
       "      <th></th>\n",
       "      <th>TITAN.NS</th>\n",
       "      <th>HAVELLS.NS</th>\n",
       "      <th>VOLTAS.NS</th>\n",
       "      <th>CROMPTON.NS</th>\n",
       "      <th>BATAINDIA.NS</th>\n",
       "      <th>KAJARIACER.NS</th>\n",
       "      <th>RAJESHEXPO.NS</th>\n",
       "      <th>RELAXO.NS</th>\n",
       "      <th>BLUESTARCO.NS</th>\n",
       "    </tr>\n",
       "  </thead>\n",
       "  <tbody>\n",
       "    <tr>\n",
       "      <th>2021-01-01</th>\n",
       "      <td>1558.599976</td>\n",
       "      <td>909.900024</td>\n",
       "      <td>831.450012</td>\n",
       "      <td>378.049988</td>\n",
       "      <td>1573.900024</td>\n",
       "      <td>709.349976</td>\n",
       "      <td>485.049988</td>\n",
       "      <td>828.349976</td>\n",
       "      <td>806.650024</td>\n",
       "    </tr>\n",
       "    <tr>\n",
       "      <th>2021-01-04</th>\n",
       "      <td>1550.900024</td>\n",
       "      <td>918.799988</td>\n",
       "      <td>846.000000</td>\n",
       "      <td>373.700012</td>\n",
       "      <td>1594.849976</td>\n",
       "      <td>708.250000</td>\n",
       "      <td>484.000000</td>\n",
       "      <td>837.150024</td>\n",
       "      <td>807.450012</td>\n",
       "    </tr>\n",
       "    <tr>\n",
       "      <th>2021-01-05</th>\n",
       "      <td>1570.949951</td>\n",
       "      <td>935.700012</td>\n",
       "      <td>837.349976</td>\n",
       "      <td>377.350006</td>\n",
       "      <td>1608.199951</td>\n",
       "      <td>709.500000</td>\n",
       "      <td>484.100006</td>\n",
       "      <td>893.900024</td>\n",
       "      <td>817.250000</td>\n",
       "    </tr>\n",
       "    <tr>\n",
       "      <th>2021-01-06</th>\n",
       "      <td>1572.599976</td>\n",
       "      <td>945.900024</td>\n",
       "      <td>869.299988</td>\n",
       "      <td>383.899994</td>\n",
       "      <td>1658.300049</td>\n",
       "      <td>710.750000</td>\n",
       "      <td>479.049988</td>\n",
       "      <td>898.849976</td>\n",
       "      <td>807.950012</td>\n",
       "    </tr>\n",
       "    <tr>\n",
       "      <th>2021-01-07</th>\n",
       "      <td>1542.349976</td>\n",
       "      <td>971.250000</td>\n",
       "      <td>881.500000</td>\n",
       "      <td>395.049988</td>\n",
       "      <td>1640.849976</td>\n",
       "      <td>723.549988</td>\n",
       "      <td>482.250000</td>\n",
       "      <td>879.549988</td>\n",
       "      <td>798.000000</td>\n",
       "    </tr>\n",
       "  </tbody>\n",
       "</table>\n",
       "</div>"
      ],
      "text/plain": [
       "               TITAN.NS  HAVELLS.NS   VOLTAS.NS  CROMPTON.NS  BATAINDIA.NS  \\\n",
       "2021-01-01  1558.599976  909.900024  831.450012   378.049988   1573.900024   \n",
       "2021-01-04  1550.900024  918.799988  846.000000   373.700012   1594.849976   \n",
       "2021-01-05  1570.949951  935.700012  837.349976   377.350006   1608.199951   \n",
       "2021-01-06  1572.599976  945.900024  869.299988   383.899994   1658.300049   \n",
       "2021-01-07  1542.349976  971.250000  881.500000   395.049988   1640.849976   \n",
       "\n",
       "            KAJARIACER.NS  RAJESHEXPO.NS   RELAXO.NS  BLUESTARCO.NS  \n",
       "2021-01-01     709.349976     485.049988  828.349976     806.650024  \n",
       "2021-01-04     708.250000     484.000000  837.150024     807.450012  \n",
       "2021-01-05     709.500000     484.100006  893.900024     817.250000  \n",
       "2021-01-06     710.750000     479.049988  898.849976     807.950012  \n",
       "2021-01-07     723.549988     482.250000  879.549988     798.000000  "
      ]
     },
     "execution_count": 9,
     "metadata": {},
     "output_type": "execute_result"
    }
   ],
   "source": [
    "prices_df.head()"
   ]
  },
  {
   "cell_type": "code",
   "execution_count": 10,
   "metadata": {},
   "outputs": [],
   "source": [
    "prices_df.to_csv('consumer_durable.csv')"
   ]
  },
  {
   "cell_type": "code",
   "execution_count": null,
   "metadata": {},
   "outputs": [],
   "source": []
  }
 ],
 "metadata": {
  "kernelspec": {
   "display_name": "Python 3 (ipykernel)",
   "language": "python",
   "name": "python3"
  },
  "language_info": {
   "codemirror_mode": {
    "name": "ipython",
    "version": 3
   },
   "file_extension": ".py",
   "mimetype": "text/x-python",
   "name": "python",
   "nbconvert_exporter": "python",
   "pygments_lexer": "ipython3",
   "version": "3.9.7"
  }
 },
 "nbformat": 4,
 "nbformat_minor": 2
}
